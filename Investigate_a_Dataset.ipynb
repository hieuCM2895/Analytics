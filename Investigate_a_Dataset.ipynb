{
 "cells": [
  {
   "cell_type": "markdown",
   "metadata": {},
   "source": [
    "> **Tip**: In this project, we will analyze a dataset containing information about movies from TMDb (The Movie Database). We will explore the data to answer various questions and gain insights into the trends and patterns in the movie industry.\n",
    "\n",
    "# Project: Investigate a Dataset (TMDb movie data)\n",
    "\n",
    "## Table of Contents\n",
    "<ul>\n",
    "<li><a href=\"#intro\">Introduction</a></li>\n",
    "<li><a href=\"#wrangling\">Data Wrangling</a></li>\n",
    "<li><a href=\"#eda\">Exploratory Data Analysis</a></li>\n",
    "<li><a href=\"#conclusions\">Conclusions</a></li>\n",
    "</ul>"
   ]
  },
  {
   "cell_type": "markdown",
   "metadata": {},
   "source": [
    "<a id='intro'></a>\n",
    "## Introduction\n",
    "\n",
    "TMDb movie data set contains information about 10,000 movies collected from The Movie Database (TMDb), including user ratings and revenue.I would like to find other intresting patterns in the dataset.\n",
    "\n",
    "\n",
    "### Dataset Description \n",
    "\n",
    "> **Tip**: When introducing your dataset, it's essential to provide a clear overview of its contents and significance. Begin by stating the source of the dataset and its relevance to your analysis. Then, list all the column names in each table, explaining their significance to help readers understand the type of information available.\n",
    "\n",
    "\n",
    "### Question(s) for Analysis\n",
    ">**Tip**: How does the budget of a movie influence its revenue, and what are the most common genres of movies produced? Additionally, is there a correlation between the runtime of a movie and its average rating? These questions will be explored throughout the report using data analysis techniques.\n",
    "\n",
    "> **Tip**: When coding, it's important to adhere to good coding practices such as using NumPy arrays, Pandas Series, and DataFrames where appropriate, instead of relying solely on Python lists and dictionaries. Additionally, defining and using functions can help avoid repetitive code and improve code readability. \n"
   ]
  },
  {
   "cell_type": "code",
   "execution_count": 10,
   "metadata": {},
   "outputs": [],
   "source": [
    "#loading necessary libraries\n",
    "\n",
    "import pandas as pd\n",
    "import numpy as np\n",
    "import operator\n",
    "import seaborn as sns\n",
    "import matplotlib.pyplot as plt\n",
    "%matplotlib inline"
   ]
  },
  {
   "cell_type": "markdown",
   "metadata": {},
   "source": [
    "<a id='wrangling'></a>\n",
    "## Data Wrangling\n",
    "\n",
    "> **Tip**: In this section, we'll load the data, check for any issues, and clean it for analysis. We'll document each cleaning step in markdown cells to ensure transparency and justify our decisions.\n",
    "\n",
    "\n",
    "### General Properties\n",
    "> **Tip**: Create cells freely to explore your data. One option that you can take with this project is to do a lot of explorations initially. This does not have to be organized, but make sure you use enough comments to understand the purpose of each code cell."
   ]
  },
  {
   "cell_type": "code",
   "execution_count": 11,
   "metadata": {},
   "outputs": [],
   "source": [
    "# Load your data\n",
    "\n",
    "data = pd.read_csv('tmdb_5000_movies.csv')"
   ]
  },
  {
   "cell_type": "markdown",
   "metadata": {},
   "source": [
    "<a id='wrangling'></a>\n",
    "## Printing the Data's data type and dimensions\n",
    "\n",
    "> The TMdb dataset consists of 4803 rows and 20 columns.\n"
   ]
  },
  {
   "cell_type": "code",
   "execution_count": 12,
   "metadata": {},
   "outputs": [
    {
     "name": "stdout",
     "output_type": "stream",
     "text": [
      "(4803, 20)\n"
     ]
    }
   ],
   "source": [
    "print(data.shape)"
   ]
  },
  {
   "cell_type": "markdown",
   "metadata": {},
   "source": [
    "<a id='wrangling'></a>\n",
    "## Printing data columns\n",
    "\n",
    "\n",
    "> Lets find out the name of the columns for this dataset.\n"
   ]
  },
  {
   "cell_type": "code",
   "execution_count": 13,
   "metadata": {},
   "outputs": [
    {
     "name": "stdout",
     "output_type": "stream",
     "text": [
      "['budget', 'genres', 'homepage', 'id', 'keywords', 'original_language', 'original_title', 'overview', 'popularity', 'production_companies', 'production_countries', 'release_date', 'revenue', 'runtime', 'spoken_languages', 'status', 'tagline', 'title', 'vote_average', 'vote_count']\n"
     ]
    }
   ],
   "source": [
    "print(list(data.columns.values))"
   ]
  },
  {
   "cell_type": "markdown",
   "metadata": {},
   "source": [
    "<a id='wrangl'></a>\n",
    "## Inspecting the 10 first rows from the Data\n",
    "\n",
    "\n",
    "> Here it is presented the first 10 rows from the TMdb dataset, Lets look at each column. There are id columns as a unique value corresponding to each row - entry, which on its side represents each movie. There are other columns which describes financial values such budget and revenue. Other columns include information like the genre of this movie, the production companies, the release_date, the crowd's votes.\n"
   ]
  },
  {
   "cell_type": "code",
   "execution_count": 14,
   "metadata": {
    "scrolled": true
   },
   "outputs": [
    {
     "data": {
      "text/html": [
       "<div>\n",
       "<style scoped>\n",
       "    .dataframe tbody tr th:only-of-type {\n",
       "        vertical-align: middle;\n",
       "    }\n",
       "\n",
       "    .dataframe tbody tr th {\n",
       "        vertical-align: top;\n",
       "    }\n",
       "\n",
       "    .dataframe thead th {\n",
       "        text-align: right;\n",
       "    }\n",
       "</style>\n",
       "<table border=\"1\" class=\"dataframe\">\n",
       "  <thead>\n",
       "    <tr style=\"text-align: right;\">\n",
       "      <th></th>\n",
       "      <th>budget</th>\n",
       "      <th>genres</th>\n",
       "      <th>homepage</th>\n",
       "      <th>id</th>\n",
       "      <th>keywords</th>\n",
       "      <th>original_language</th>\n",
       "      <th>original_title</th>\n",
       "      <th>overview</th>\n",
       "      <th>popularity</th>\n",
       "      <th>production_companies</th>\n",
       "      <th>production_countries</th>\n",
       "      <th>release_date</th>\n",
       "      <th>revenue</th>\n",
       "      <th>runtime</th>\n",
       "      <th>spoken_languages</th>\n",
       "      <th>status</th>\n",
       "      <th>tagline</th>\n",
       "      <th>title</th>\n",
       "      <th>vote_average</th>\n",
       "      <th>vote_count</th>\n",
       "    </tr>\n",
       "  </thead>\n",
       "  <tbody>\n",
       "    <tr>\n",
       "      <th>0</th>\n",
       "      <td>237000000</td>\n",
       "      <td>[{\"id\": 28, \"name\": \"Action\"}, {\"id\": 12, \"nam...</td>\n",
       "      <td>http://www.avatarmovie.com/</td>\n",
       "      <td>19995</td>\n",
       "      <td>[{\"id\": 1463, \"name\": \"culture clash\"}, {\"id\":...</td>\n",
       "      <td>en</td>\n",
       "      <td>Avatar</td>\n",
       "      <td>In the 22nd century, a paraplegic Marine is di...</td>\n",
       "      <td>150.437577</td>\n",
       "      <td>[{\"name\": \"Ingenious Film Partners\", \"id\": 289...</td>\n",
       "      <td>[{\"iso_3166_1\": \"US\", \"name\": \"United States o...</td>\n",
       "      <td>2009-12-10</td>\n",
       "      <td>2787965087</td>\n",
       "      <td>162.0</td>\n",
       "      <td>[{\"iso_639_1\": \"en\", \"name\": \"English\"}, {\"iso...</td>\n",
       "      <td>Released</td>\n",
       "      <td>Enter the World of Pandora.</td>\n",
       "      <td>Avatar</td>\n",
       "      <td>7.2</td>\n",
       "      <td>11800</td>\n",
       "    </tr>\n",
       "    <tr>\n",
       "      <th>1</th>\n",
       "      <td>300000000</td>\n",
       "      <td>[{\"id\": 12, \"name\": \"Adventure\"}, {\"id\": 14, \"...</td>\n",
       "      <td>http://disney.go.com/disneypictures/pirates/</td>\n",
       "      <td>285</td>\n",
       "      <td>[{\"id\": 270, \"name\": \"ocean\"}, {\"id\": 726, \"na...</td>\n",
       "      <td>en</td>\n",
       "      <td>Pirates of the Caribbean: At World's End</td>\n",
       "      <td>Captain Barbossa, long believed to be dead, ha...</td>\n",
       "      <td>139.082615</td>\n",
       "      <td>[{\"name\": \"Walt Disney Pictures\", \"id\": 2}, {\"...</td>\n",
       "      <td>[{\"iso_3166_1\": \"US\", \"name\": \"United States o...</td>\n",
       "      <td>2007-05-19</td>\n",
       "      <td>961000000</td>\n",
       "      <td>169.0</td>\n",
       "      <td>[{\"iso_639_1\": \"en\", \"name\": \"English\"}]</td>\n",
       "      <td>Released</td>\n",
       "      <td>At the end of the world, the adventure begins.</td>\n",
       "      <td>Pirates of the Caribbean: At World's End</td>\n",
       "      <td>6.9</td>\n",
       "      <td>4500</td>\n",
       "    </tr>\n",
       "    <tr>\n",
       "      <th>2</th>\n",
       "      <td>245000000</td>\n",
       "      <td>[{\"id\": 28, \"name\": \"Action\"}, {\"id\": 12, \"nam...</td>\n",
       "      <td>http://www.sonypictures.com/movies/spectre/</td>\n",
       "      <td>206647</td>\n",
       "      <td>[{\"id\": 470, \"name\": \"spy\"}, {\"id\": 818, \"name...</td>\n",
       "      <td>en</td>\n",
       "      <td>Spectre</td>\n",
       "      <td>A cryptic message from Bond’s past sends him o...</td>\n",
       "      <td>107.376788</td>\n",
       "      <td>[{\"name\": \"Columbia Pictures\", \"id\": 5}, {\"nam...</td>\n",
       "      <td>[{\"iso_3166_1\": \"GB\", \"name\": \"United Kingdom\"...</td>\n",
       "      <td>2015-10-26</td>\n",
       "      <td>880674609</td>\n",
       "      <td>148.0</td>\n",
       "      <td>[{\"iso_639_1\": \"fr\", \"name\": \"Fran\\u00e7ais\"},...</td>\n",
       "      <td>Released</td>\n",
       "      <td>A Plan No One Escapes</td>\n",
       "      <td>Spectre</td>\n",
       "      <td>6.3</td>\n",
       "      <td>4466</td>\n",
       "    </tr>\n",
       "    <tr>\n",
       "      <th>3</th>\n",
       "      <td>250000000</td>\n",
       "      <td>[{\"id\": 28, \"name\": \"Action\"}, {\"id\": 80, \"nam...</td>\n",
       "      <td>http://www.thedarkknightrises.com/</td>\n",
       "      <td>49026</td>\n",
       "      <td>[{\"id\": 849, \"name\": \"dc comics\"}, {\"id\": 853,...</td>\n",
       "      <td>en</td>\n",
       "      <td>The Dark Knight Rises</td>\n",
       "      <td>Following the death of District Attorney Harve...</td>\n",
       "      <td>112.312950</td>\n",
       "      <td>[{\"name\": \"Legendary Pictures\", \"id\": 923}, {\"...</td>\n",
       "      <td>[{\"iso_3166_1\": \"US\", \"name\": \"United States o...</td>\n",
       "      <td>2012-07-16</td>\n",
       "      <td>1084939099</td>\n",
       "      <td>165.0</td>\n",
       "      <td>[{\"iso_639_1\": \"en\", \"name\": \"English\"}]</td>\n",
       "      <td>Released</td>\n",
       "      <td>The Legend Ends</td>\n",
       "      <td>The Dark Knight Rises</td>\n",
       "      <td>7.6</td>\n",
       "      <td>9106</td>\n",
       "    </tr>\n",
       "    <tr>\n",
       "      <th>4</th>\n",
       "      <td>260000000</td>\n",
       "      <td>[{\"id\": 28, \"name\": \"Action\"}, {\"id\": 12, \"nam...</td>\n",
       "      <td>http://movies.disney.com/john-carter</td>\n",
       "      <td>49529</td>\n",
       "      <td>[{\"id\": 818, \"name\": \"based on novel\"}, {\"id\":...</td>\n",
       "      <td>en</td>\n",
       "      <td>John Carter</td>\n",
       "      <td>John Carter is a war-weary, former military ca...</td>\n",
       "      <td>43.926995</td>\n",
       "      <td>[{\"name\": \"Walt Disney Pictures\", \"id\": 2}]</td>\n",
       "      <td>[{\"iso_3166_1\": \"US\", \"name\": \"United States o...</td>\n",
       "      <td>2012-03-07</td>\n",
       "      <td>284139100</td>\n",
       "      <td>132.0</td>\n",
       "      <td>[{\"iso_639_1\": \"en\", \"name\": \"English\"}]</td>\n",
       "      <td>Released</td>\n",
       "      <td>Lost in our world, found in another.</td>\n",
       "      <td>John Carter</td>\n",
       "      <td>6.1</td>\n",
       "      <td>2124</td>\n",
       "    </tr>\n",
       "    <tr>\n",
       "      <th>5</th>\n",
       "      <td>258000000</td>\n",
       "      <td>[{\"id\": 14, \"name\": \"Fantasy\"}, {\"id\": 28, \"na...</td>\n",
       "      <td>http://www.sonypictures.com/movies/spider-man3/</td>\n",
       "      <td>559</td>\n",
       "      <td>[{\"id\": 851, \"name\": \"dual identity\"}, {\"id\": ...</td>\n",
       "      <td>en</td>\n",
       "      <td>Spider-Man 3</td>\n",
       "      <td>The seemingly invincible Spider-Man goes up ag...</td>\n",
       "      <td>115.699814</td>\n",
       "      <td>[{\"name\": \"Columbia Pictures\", \"id\": 5}, {\"nam...</td>\n",
       "      <td>[{\"iso_3166_1\": \"US\", \"name\": \"United States o...</td>\n",
       "      <td>2007-05-01</td>\n",
       "      <td>890871626</td>\n",
       "      <td>139.0</td>\n",
       "      <td>[{\"iso_639_1\": \"en\", \"name\": \"English\"}, {\"iso...</td>\n",
       "      <td>Released</td>\n",
       "      <td>The battle within.</td>\n",
       "      <td>Spider-Man 3</td>\n",
       "      <td>5.9</td>\n",
       "      <td>3576</td>\n",
       "    </tr>\n",
       "    <tr>\n",
       "      <th>6</th>\n",
       "      <td>260000000</td>\n",
       "      <td>[{\"id\": 16, \"name\": \"Animation\"}, {\"id\": 10751...</td>\n",
       "      <td>http://disney.go.com/disneypictures/tangled/</td>\n",
       "      <td>38757</td>\n",
       "      <td>[{\"id\": 1562, \"name\": \"hostage\"}, {\"id\": 2343,...</td>\n",
       "      <td>en</td>\n",
       "      <td>Tangled</td>\n",
       "      <td>When the kingdom's most wanted-and most charmi...</td>\n",
       "      <td>48.681969</td>\n",
       "      <td>[{\"name\": \"Walt Disney Pictures\", \"id\": 2}, {\"...</td>\n",
       "      <td>[{\"iso_3166_1\": \"US\", \"name\": \"United States o...</td>\n",
       "      <td>2010-11-24</td>\n",
       "      <td>591794936</td>\n",
       "      <td>100.0</td>\n",
       "      <td>[{\"iso_639_1\": \"en\", \"name\": \"English\"}]</td>\n",
       "      <td>Released</td>\n",
       "      <td>They're taking adventure to new lengths.</td>\n",
       "      <td>Tangled</td>\n",
       "      <td>7.4</td>\n",
       "      <td>3330</td>\n",
       "    </tr>\n",
       "    <tr>\n",
       "      <th>7</th>\n",
       "      <td>280000000</td>\n",
       "      <td>[{\"id\": 28, \"name\": \"Action\"}, {\"id\": 12, \"nam...</td>\n",
       "      <td>http://marvel.com/movies/movie/193/avengers_ag...</td>\n",
       "      <td>99861</td>\n",
       "      <td>[{\"id\": 8828, \"name\": \"marvel comic\"}, {\"id\": ...</td>\n",
       "      <td>en</td>\n",
       "      <td>Avengers: Age of Ultron</td>\n",
       "      <td>When Tony Stark tries to jumpstart a dormant p...</td>\n",
       "      <td>134.279229</td>\n",
       "      <td>[{\"name\": \"Marvel Studios\", \"id\": 420}, {\"name...</td>\n",
       "      <td>[{\"iso_3166_1\": \"US\", \"name\": \"United States o...</td>\n",
       "      <td>2015-04-22</td>\n",
       "      <td>1405403694</td>\n",
       "      <td>141.0</td>\n",
       "      <td>[{\"iso_639_1\": \"en\", \"name\": \"English\"}]</td>\n",
       "      <td>Released</td>\n",
       "      <td>A New Age Has Come.</td>\n",
       "      <td>Avengers: Age of Ultron</td>\n",
       "      <td>7.3</td>\n",
       "      <td>6767</td>\n",
       "    </tr>\n",
       "    <tr>\n",
       "      <th>8</th>\n",
       "      <td>250000000</td>\n",
       "      <td>[{\"id\": 12, \"name\": \"Adventure\"}, {\"id\": 14, \"...</td>\n",
       "      <td>http://harrypotter.warnerbros.com/harrypottera...</td>\n",
       "      <td>767</td>\n",
       "      <td>[{\"id\": 616, \"name\": \"witch\"}, {\"id\": 2343, \"n...</td>\n",
       "      <td>en</td>\n",
       "      <td>Harry Potter and the Half-Blood Prince</td>\n",
       "      <td>As Harry begins his sixth year at Hogwarts, he...</td>\n",
       "      <td>98.885637</td>\n",
       "      <td>[{\"name\": \"Warner Bros.\", \"id\": 6194}, {\"name\"...</td>\n",
       "      <td>[{\"iso_3166_1\": \"GB\", \"name\": \"United Kingdom\"...</td>\n",
       "      <td>2009-07-07</td>\n",
       "      <td>933959197</td>\n",
       "      <td>153.0</td>\n",
       "      <td>[{\"iso_639_1\": \"en\", \"name\": \"English\"}]</td>\n",
       "      <td>Released</td>\n",
       "      <td>Dark Secrets Revealed</td>\n",
       "      <td>Harry Potter and the Half-Blood Prince</td>\n",
       "      <td>7.4</td>\n",
       "      <td>5293</td>\n",
       "    </tr>\n",
       "    <tr>\n",
       "      <th>9</th>\n",
       "      <td>250000000</td>\n",
       "      <td>[{\"id\": 28, \"name\": \"Action\"}, {\"id\": 12, \"nam...</td>\n",
       "      <td>http://www.batmanvsupermandawnofjustice.com/</td>\n",
       "      <td>209112</td>\n",
       "      <td>[{\"id\": 849, \"name\": \"dc comics\"}, {\"id\": 7002...</td>\n",
       "      <td>en</td>\n",
       "      <td>Batman v Superman: Dawn of Justice</td>\n",
       "      <td>Fearing the actions of a god-like Super Hero l...</td>\n",
       "      <td>155.790452</td>\n",
       "      <td>[{\"name\": \"DC Comics\", \"id\": 429}, {\"name\": \"A...</td>\n",
       "      <td>[{\"iso_3166_1\": \"US\", \"name\": \"United States o...</td>\n",
       "      <td>2016-03-23</td>\n",
       "      <td>873260194</td>\n",
       "      <td>151.0</td>\n",
       "      <td>[{\"iso_639_1\": \"en\", \"name\": \"English\"}]</td>\n",
       "      <td>Released</td>\n",
       "      <td>Justice or revenge</td>\n",
       "      <td>Batman v Superman: Dawn of Justice</td>\n",
       "      <td>5.7</td>\n",
       "      <td>7004</td>\n",
       "    </tr>\n",
       "    <tr>\n",
       "      <th>10</th>\n",
       "      <td>270000000</td>\n",
       "      <td>[{\"id\": 12, \"name\": \"Adventure\"}, {\"id\": 14, \"...</td>\n",
       "      <td>http://www.superman.com</td>\n",
       "      <td>1452</td>\n",
       "      <td>[{\"id\": 83, \"name\": \"saving the world\"}, {\"id\"...</td>\n",
       "      <td>en</td>\n",
       "      <td>Superman Returns</td>\n",
       "      <td>Superman returns to discover his 5-year absenc...</td>\n",
       "      <td>57.925623</td>\n",
       "      <td>[{\"name\": \"DC Comics\", \"id\": 429}, {\"name\": \"L...</td>\n",
       "      <td>[{\"iso_3166_1\": \"US\", \"name\": \"United States o...</td>\n",
       "      <td>2006-06-28</td>\n",
       "      <td>391081192</td>\n",
       "      <td>154.0</td>\n",
       "      <td>[{\"iso_639_1\": \"en\", \"name\": \"English\"}, {\"iso...</td>\n",
       "      <td>Released</td>\n",
       "      <td>NaN</td>\n",
       "      <td>Superman Returns</td>\n",
       "      <td>5.4</td>\n",
       "      <td>1400</td>\n",
       "    </tr>\n",
       "  </tbody>\n",
       "</table>\n",
       "</div>"
      ],
      "text/plain": [
       "       budget                                             genres  \\\n",
       "0   237000000  [{\"id\": 28, \"name\": \"Action\"}, {\"id\": 12, \"nam...   \n",
       "1   300000000  [{\"id\": 12, \"name\": \"Adventure\"}, {\"id\": 14, \"...   \n",
       "2   245000000  [{\"id\": 28, \"name\": \"Action\"}, {\"id\": 12, \"nam...   \n",
       "3   250000000  [{\"id\": 28, \"name\": \"Action\"}, {\"id\": 80, \"nam...   \n",
       "4   260000000  [{\"id\": 28, \"name\": \"Action\"}, {\"id\": 12, \"nam...   \n",
       "5   258000000  [{\"id\": 14, \"name\": \"Fantasy\"}, {\"id\": 28, \"na...   \n",
       "6   260000000  [{\"id\": 16, \"name\": \"Animation\"}, {\"id\": 10751...   \n",
       "7   280000000  [{\"id\": 28, \"name\": \"Action\"}, {\"id\": 12, \"nam...   \n",
       "8   250000000  [{\"id\": 12, \"name\": \"Adventure\"}, {\"id\": 14, \"...   \n",
       "9   250000000  [{\"id\": 28, \"name\": \"Action\"}, {\"id\": 12, \"nam...   \n",
       "10  270000000  [{\"id\": 12, \"name\": \"Adventure\"}, {\"id\": 14, \"...   \n",
       "\n",
       "                                             homepage      id  \\\n",
       "0                         http://www.avatarmovie.com/   19995   \n",
       "1        http://disney.go.com/disneypictures/pirates/     285   \n",
       "2         http://www.sonypictures.com/movies/spectre/  206647   \n",
       "3                  http://www.thedarkknightrises.com/   49026   \n",
       "4                http://movies.disney.com/john-carter   49529   \n",
       "5     http://www.sonypictures.com/movies/spider-man3/     559   \n",
       "6        http://disney.go.com/disneypictures/tangled/   38757   \n",
       "7   http://marvel.com/movies/movie/193/avengers_ag...   99861   \n",
       "8   http://harrypotter.warnerbros.com/harrypottera...     767   \n",
       "9        http://www.batmanvsupermandawnofjustice.com/  209112   \n",
       "10                            http://www.superman.com    1452   \n",
       "\n",
       "                                             keywords original_language  \\\n",
       "0   [{\"id\": 1463, \"name\": \"culture clash\"}, {\"id\":...                en   \n",
       "1   [{\"id\": 270, \"name\": \"ocean\"}, {\"id\": 726, \"na...                en   \n",
       "2   [{\"id\": 470, \"name\": \"spy\"}, {\"id\": 818, \"name...                en   \n",
       "3   [{\"id\": 849, \"name\": \"dc comics\"}, {\"id\": 853,...                en   \n",
       "4   [{\"id\": 818, \"name\": \"based on novel\"}, {\"id\":...                en   \n",
       "5   [{\"id\": 851, \"name\": \"dual identity\"}, {\"id\": ...                en   \n",
       "6   [{\"id\": 1562, \"name\": \"hostage\"}, {\"id\": 2343,...                en   \n",
       "7   [{\"id\": 8828, \"name\": \"marvel comic\"}, {\"id\": ...                en   \n",
       "8   [{\"id\": 616, \"name\": \"witch\"}, {\"id\": 2343, \"n...                en   \n",
       "9   [{\"id\": 849, \"name\": \"dc comics\"}, {\"id\": 7002...                en   \n",
       "10  [{\"id\": 83, \"name\": \"saving the world\"}, {\"id\"...                en   \n",
       "\n",
       "                              original_title  \\\n",
       "0                                     Avatar   \n",
       "1   Pirates of the Caribbean: At World's End   \n",
       "2                                    Spectre   \n",
       "3                      The Dark Knight Rises   \n",
       "4                                John Carter   \n",
       "5                               Spider-Man 3   \n",
       "6                                    Tangled   \n",
       "7                    Avengers: Age of Ultron   \n",
       "8     Harry Potter and the Half-Blood Prince   \n",
       "9         Batman v Superman: Dawn of Justice   \n",
       "10                          Superman Returns   \n",
       "\n",
       "                                             overview  popularity  \\\n",
       "0   In the 22nd century, a paraplegic Marine is di...  150.437577   \n",
       "1   Captain Barbossa, long believed to be dead, ha...  139.082615   \n",
       "2   A cryptic message from Bond’s past sends him o...  107.376788   \n",
       "3   Following the death of District Attorney Harve...  112.312950   \n",
       "4   John Carter is a war-weary, former military ca...   43.926995   \n",
       "5   The seemingly invincible Spider-Man goes up ag...  115.699814   \n",
       "6   When the kingdom's most wanted-and most charmi...   48.681969   \n",
       "7   When Tony Stark tries to jumpstart a dormant p...  134.279229   \n",
       "8   As Harry begins his sixth year at Hogwarts, he...   98.885637   \n",
       "9   Fearing the actions of a god-like Super Hero l...  155.790452   \n",
       "10  Superman returns to discover his 5-year absenc...   57.925623   \n",
       "\n",
       "                                 production_companies  \\\n",
       "0   [{\"name\": \"Ingenious Film Partners\", \"id\": 289...   \n",
       "1   [{\"name\": \"Walt Disney Pictures\", \"id\": 2}, {\"...   \n",
       "2   [{\"name\": \"Columbia Pictures\", \"id\": 5}, {\"nam...   \n",
       "3   [{\"name\": \"Legendary Pictures\", \"id\": 923}, {\"...   \n",
       "4         [{\"name\": \"Walt Disney Pictures\", \"id\": 2}]   \n",
       "5   [{\"name\": \"Columbia Pictures\", \"id\": 5}, {\"nam...   \n",
       "6   [{\"name\": \"Walt Disney Pictures\", \"id\": 2}, {\"...   \n",
       "7   [{\"name\": \"Marvel Studios\", \"id\": 420}, {\"name...   \n",
       "8   [{\"name\": \"Warner Bros.\", \"id\": 6194}, {\"name\"...   \n",
       "9   [{\"name\": \"DC Comics\", \"id\": 429}, {\"name\": \"A...   \n",
       "10  [{\"name\": \"DC Comics\", \"id\": 429}, {\"name\": \"L...   \n",
       "\n",
       "                                 production_countries release_date  \\\n",
       "0   [{\"iso_3166_1\": \"US\", \"name\": \"United States o...   2009-12-10   \n",
       "1   [{\"iso_3166_1\": \"US\", \"name\": \"United States o...   2007-05-19   \n",
       "2   [{\"iso_3166_1\": \"GB\", \"name\": \"United Kingdom\"...   2015-10-26   \n",
       "3   [{\"iso_3166_1\": \"US\", \"name\": \"United States o...   2012-07-16   \n",
       "4   [{\"iso_3166_1\": \"US\", \"name\": \"United States o...   2012-03-07   \n",
       "5   [{\"iso_3166_1\": \"US\", \"name\": \"United States o...   2007-05-01   \n",
       "6   [{\"iso_3166_1\": \"US\", \"name\": \"United States o...   2010-11-24   \n",
       "7   [{\"iso_3166_1\": \"US\", \"name\": \"United States o...   2015-04-22   \n",
       "8   [{\"iso_3166_1\": \"GB\", \"name\": \"United Kingdom\"...   2009-07-07   \n",
       "9   [{\"iso_3166_1\": \"US\", \"name\": \"United States o...   2016-03-23   \n",
       "10  [{\"iso_3166_1\": \"US\", \"name\": \"United States o...   2006-06-28   \n",
       "\n",
       "       revenue  runtime                                   spoken_languages  \\\n",
       "0   2787965087    162.0  [{\"iso_639_1\": \"en\", \"name\": \"English\"}, {\"iso...   \n",
       "1    961000000    169.0           [{\"iso_639_1\": \"en\", \"name\": \"English\"}]   \n",
       "2    880674609    148.0  [{\"iso_639_1\": \"fr\", \"name\": \"Fran\\u00e7ais\"},...   \n",
       "3   1084939099    165.0           [{\"iso_639_1\": \"en\", \"name\": \"English\"}]   \n",
       "4    284139100    132.0           [{\"iso_639_1\": \"en\", \"name\": \"English\"}]   \n",
       "5    890871626    139.0  [{\"iso_639_1\": \"en\", \"name\": \"English\"}, {\"iso...   \n",
       "6    591794936    100.0           [{\"iso_639_1\": \"en\", \"name\": \"English\"}]   \n",
       "7   1405403694    141.0           [{\"iso_639_1\": \"en\", \"name\": \"English\"}]   \n",
       "8    933959197    153.0           [{\"iso_639_1\": \"en\", \"name\": \"English\"}]   \n",
       "9    873260194    151.0           [{\"iso_639_1\": \"en\", \"name\": \"English\"}]   \n",
       "10   391081192    154.0  [{\"iso_639_1\": \"en\", \"name\": \"English\"}, {\"iso...   \n",
       "\n",
       "      status                                         tagline  \\\n",
       "0   Released                     Enter the World of Pandora.   \n",
       "1   Released  At the end of the world, the adventure begins.   \n",
       "2   Released                           A Plan No One Escapes   \n",
       "3   Released                                 The Legend Ends   \n",
       "4   Released            Lost in our world, found in another.   \n",
       "5   Released                              The battle within.   \n",
       "6   Released        They're taking adventure to new lengths.   \n",
       "7   Released                             A New Age Has Come.   \n",
       "8   Released                           Dark Secrets Revealed   \n",
       "9   Released                              Justice or revenge   \n",
       "10  Released                                             NaN   \n",
       "\n",
       "                                       title  vote_average  vote_count  \n",
       "0                                     Avatar           7.2       11800  \n",
       "1   Pirates of the Caribbean: At World's End           6.9        4500  \n",
       "2                                    Spectre           6.3        4466  \n",
       "3                      The Dark Knight Rises           7.6        9106  \n",
       "4                                John Carter           6.1        2124  \n",
       "5                               Spider-Man 3           5.9        3576  \n",
       "6                                    Tangled           7.4        3330  \n",
       "7                    Avengers: Age of Ultron           7.3        6767  \n",
       "8     Harry Potter and the Half-Blood Prince           7.4        5293  \n",
       "9         Batman v Superman: Dawn of Justice           5.7        7004  \n",
       "10                          Superman Returns           5.4        1400  "
      ]
     },
     "execution_count": 14,
     "metadata": {},
     "output_type": "execute_result"
    }
   ],
   "source": [
    "data.head(11)"
   ]
  },
  {
   "cell_type": "code",
   "execution_count": 15,
   "metadata": {},
   "outputs": [
    {
     "ename": "SyntaxError",
     "evalue": "invalid syntax (208047140.py, line 1)",
     "output_type": "error",
     "traceback": [
      "\u001b[0;36m  Cell \u001b[0;32mIn[15], line 1\u001b[0;36m\u001b[0m\n\u001b[0;31m    Calculating the null value\u001b[0m\n\u001b[0m                ^\u001b[0m\n\u001b[0;31mSyntaxError\u001b[0m\u001b[0;31m:\u001b[0m invalid syntax\n"
     ]
    }
   ],
   "source": [
    "Calculating the null value"
   ]
  },
  {
   "cell_type": "code",
   "execution_count": 16,
   "metadata": {},
   "outputs": [
    {
     "data": {
      "text/plain": [
       "budget                     0\n",
       "genres                     0\n",
       "homepage                3091\n",
       "id                         0\n",
       "keywords                   0\n",
       "original_language          0\n",
       "original_title             0\n",
       "overview                   3\n",
       "popularity                 0\n",
       "production_companies       0\n",
       "production_countries       0\n",
       "release_date               1\n",
       "revenue                    0\n",
       "runtime                    2\n",
       "spoken_languages           0\n",
       "status                     0\n",
       "tagline                  844\n",
       "title                      0\n",
       "vote_average               0\n",
       "vote_count                 0\n",
       "dtype: int64"
      ]
     },
     "execution_count": 16,
     "metadata": {},
     "output_type": "execute_result"
    }
   ],
   "source": [
    "#data has null values so we count total rows in each column which contain null values\n",
    "data.isnull().sum()"
   ]
  },
  {
   "cell_type": "code",
   "execution_count": 17,
   "metadata": {},
   "outputs": [],
   "source": [
    "#fill the null values with zero using 'fillna' function\n",
    "df2=data.fillna(0)"
   ]
  },
  {
   "cell_type": "markdown",
   "metadata": {},
   "source": [
    "\n",
    "### Data Cleaning (Removing the unused information from the dataset )\n",
    "\n",
    " "
   ]
  },
  {
   "cell_type": "code",
   "execution_count": 18,
   "metadata": {},
   "outputs": [],
   "source": [
    "%config IPCompleter.greedy=True\n"
   ]
  },
  {
   "cell_type": "code",
   "execution_count": 19,
   "metadata": {},
   "outputs": [],
   "source": [
    "# After discussing the structure of the data and any problems that need to be\n",
    "#   cleaned, perform those cleaning steps in the second part of this section."
   ]
  },
  {
   "cell_type": "code",
   "execution_count": 20,
   "metadata": {},
   "outputs": [],
   "source": [
    "data = data[data[\"overview\"].isnull() == False]\n",
    "data = data[data[\"genres\"].isnull() == False]\n",
    "\n",
    "data = data[data.vote_average != 0]\n",
    "data = data[data.vote_count != 0]"
   ]
  },
  {
   "cell_type": "markdown",
   "metadata": {},
   "source": [
    "### 1-remove duplicate rows from the dataset\n"
   ]
  },
  {
   "cell_type": "code",
   "execution_count": 21,
   "metadata": {},
   "outputs": [
    {
     "data": {
      "text/plain": [
       "0"
      ]
     },
     "execution_count": 21,
     "metadata": {},
     "output_type": "execute_result"
    }
   ],
   "source": [
    "#counting the duplicates \n",
    "sum(df2.duplicated())"
   ]
  },
  {
   "cell_type": "code",
   "execution_count": 22,
   "metadata": {},
   "outputs": [
    {
     "data": {
      "text/plain": [
       "(4803, 20)"
      ]
     },
     "execution_count": 22,
     "metadata": {},
     "output_type": "execute_result"
    }
   ],
   "source": [
    "#drop these duplicated rows \n",
    "df2.drop_duplicates(inplace=True)\n",
    "df2.shape"
   ]
  },
  {
   "cell_type": "markdown",
   "metadata": {},
   "source": [
    "### 2- remove the unused colums that are not needes in the analysis process\n"
   ]
  },
  {
   "cell_type": "code",
   "execution_count": 23,
   "metadata": {},
   "outputs": [],
   "source": [
    "#The columns like imdb_id, homepage,tagline, overview, budget_adj and revenue_adj are not required for my analysis\n",
    "#I will drop these columns\n",
    "df2.drop(['homepage','tagline','overview','budget','revenue'],axis =1,inplace = True)"
   ]
  },
  {
   "cell_type": "code",
   "execution_count": 24,
   "metadata": {},
   "outputs": [
    {
     "data": {
      "text/plain": [
       "(4803, 15)"
      ]
     },
     "execution_count": 24,
     "metadata": {},
     "output_type": "execute_result"
    }
   ],
   "source": [
    "df2.shape\n"
   ]
  },
  {
   "cell_type": "markdown",
   "metadata": {},
   "source": [
    "### 3- changing Datetime Format\n"
   ]
  },
  {
   "cell_type": "code",
   "execution_count": 25,
   "metadata": {},
   "outputs": [
    {
     "name": "stdout",
     "output_type": "stream",
     "text": [
      "                                                 genres      id  \\\n",
      "0     [{\"id\": 28, \"name\": \"Action\"}, {\"id\": 12, \"nam...   19995   \n",
      "1     [{\"id\": 12, \"name\": \"Adventure\"}, {\"id\": 14, \"...     285   \n",
      "2     [{\"id\": 28, \"name\": \"Action\"}, {\"id\": 12, \"nam...  206647   \n",
      "3     [{\"id\": 28, \"name\": \"Action\"}, {\"id\": 80, \"nam...   49026   \n",
      "4     [{\"id\": 28, \"name\": \"Action\"}, {\"id\": 12, \"nam...   49529   \n",
      "...                                                 ...     ...   \n",
      "4798  [{\"id\": 28, \"name\": \"Action\"}, {\"id\": 80, \"nam...    9367   \n",
      "4799  [{\"id\": 35, \"name\": \"Comedy\"}, {\"id\": 10749, \"...   72766   \n",
      "4800  [{\"id\": 35, \"name\": \"Comedy\"}, {\"id\": 18, \"nam...  231617   \n",
      "4801                                                 []  126186   \n",
      "4802                [{\"id\": 99, \"name\": \"Documentary\"}]   25975   \n",
      "\n",
      "                                               keywords original_language  \\\n",
      "0     [{\"id\": 1463, \"name\": \"culture clash\"}, {\"id\":...                en   \n",
      "1     [{\"id\": 270, \"name\": \"ocean\"}, {\"id\": 726, \"na...                en   \n",
      "2     [{\"id\": 470, \"name\": \"spy\"}, {\"id\": 818, \"name...                en   \n",
      "3     [{\"id\": 849, \"name\": \"dc comics\"}, {\"id\": 853,...                en   \n",
      "4     [{\"id\": 818, \"name\": \"based on novel\"}, {\"id\":...                en   \n",
      "...                                                 ...               ...   \n",
      "4798  [{\"id\": 5616, \"name\": \"united states\\u2013mexi...                es   \n",
      "4799                                                 []                en   \n",
      "4800  [{\"id\": 248, \"name\": \"date\"}, {\"id\": 699, \"nam...                en   \n",
      "4801                                                 []                en   \n",
      "4802  [{\"id\": 1523, \"name\": \"obsession\"}, {\"id\": 224...                en   \n",
      "\n",
      "                                original_title  popularity  \\\n",
      "0                                       Avatar  150.437577   \n",
      "1     Pirates of the Caribbean: At World's End  139.082615   \n",
      "2                                      Spectre  107.376788   \n",
      "3                        The Dark Knight Rises  112.312950   \n",
      "4                                  John Carter   43.926995   \n",
      "...                                        ...         ...   \n",
      "4798                               El Mariachi   14.269792   \n",
      "4799                                 Newlyweds    0.642552   \n",
      "4800                 Signed, Sealed, Delivered    1.444476   \n",
      "4801                          Shanghai Calling    0.857008   \n",
      "4802                         My Date with Drew    1.929883   \n",
      "\n",
      "                                   production_companies  \\\n",
      "0     [{\"name\": \"Ingenious Film Partners\", \"id\": 289...   \n",
      "1     [{\"name\": \"Walt Disney Pictures\", \"id\": 2}, {\"...   \n",
      "2     [{\"name\": \"Columbia Pictures\", \"id\": 5}, {\"nam...   \n",
      "3     [{\"name\": \"Legendary Pictures\", \"id\": 923}, {\"...   \n",
      "4           [{\"name\": \"Walt Disney Pictures\", \"id\": 2}]   \n",
      "...                                                 ...   \n",
      "4798           [{\"name\": \"Columbia Pictures\", \"id\": 5}]   \n",
      "4799                                                 []   \n",
      "4800  [{\"name\": \"Front Street Pictures\", \"id\": 3958}...   \n",
      "4801                                                 []   \n",
      "4802  [{\"name\": \"rusty bear entertainment\", \"id\": 87...   \n",
      "\n",
      "                                   production_countries release_date  runtime  \\\n",
      "0     [{\"iso_3166_1\": \"US\", \"name\": \"United States o...   2009-12-10    162.0   \n",
      "1     [{\"iso_3166_1\": \"US\", \"name\": \"United States o...   2007-05-19    169.0   \n",
      "2     [{\"iso_3166_1\": \"GB\", \"name\": \"United Kingdom\"...   2015-10-26    148.0   \n",
      "3     [{\"iso_3166_1\": \"US\", \"name\": \"United States o...   2012-07-16    165.0   \n",
      "4     [{\"iso_3166_1\": \"US\", \"name\": \"United States o...   2012-03-07    132.0   \n",
      "...                                                 ...          ...      ...   \n",
      "4798  [{\"iso_3166_1\": \"MX\", \"name\": \"Mexico\"}, {\"iso...   1992-09-04     81.0   \n",
      "4799                                                 []   2011-12-26     85.0   \n",
      "4800  [{\"iso_3166_1\": \"US\", \"name\": \"United States o...   2013-10-13    120.0   \n",
      "4801  [{\"iso_3166_1\": \"US\", \"name\": \"United States o...   2012-05-03     98.0   \n",
      "4802  [{\"iso_3166_1\": \"US\", \"name\": \"United States o...   2005-08-05     90.0   \n",
      "\n",
      "                                       spoken_languages    status  \\\n",
      "0     [{\"iso_639_1\": \"en\", \"name\": \"English\"}, {\"iso...  Released   \n",
      "1              [{\"iso_639_1\": \"en\", \"name\": \"English\"}]  Released   \n",
      "2     [{\"iso_639_1\": \"fr\", \"name\": \"Fran\\u00e7ais\"},...  Released   \n",
      "3              [{\"iso_639_1\": \"en\", \"name\": \"English\"}]  Released   \n",
      "4              [{\"iso_639_1\": \"en\", \"name\": \"English\"}]  Released   \n",
      "...                                                 ...       ...   \n",
      "4798      [{\"iso_639_1\": \"es\", \"name\": \"Espa\\u00f1ol\"}]  Released   \n",
      "4799                                                 []  Released   \n",
      "4800           [{\"iso_639_1\": \"en\", \"name\": \"English\"}]  Released   \n",
      "4801           [{\"iso_639_1\": \"en\", \"name\": \"English\"}]  Released   \n",
      "4802           [{\"iso_639_1\": \"en\", \"name\": \"English\"}]  Released   \n",
      "\n",
      "                                         title  vote_average  vote_count  \n",
      "0                                       Avatar           7.2       11800  \n",
      "1     Pirates of the Caribbean: At World's End           6.9        4500  \n",
      "2                                      Spectre           6.3        4466  \n",
      "3                        The Dark Knight Rises           7.6        9106  \n",
      "4                                  John Carter           6.1        2124  \n",
      "...                                        ...           ...         ...  \n",
      "4798                               El Mariachi           6.6         238  \n",
      "4799                                 Newlyweds           5.9           5  \n",
      "4800                 Signed, Sealed, Delivered           7.0           6  \n",
      "4801                          Shanghai Calling           5.7           7  \n",
      "4802                         My Date with Drew           6.3          16  \n",
      "\n",
      "[4803 rows x 15 columns]\n"
     ]
    }
   ],
   "source": [
    "#the the given in the dataset is in string format.\n",
    "#So we need to change this in datetime format\n",
    "converted_date_str = df2.replace(\"-\", \"/\")\n",
    "print(converted_date_str)  # Output: 2009/12/10"
   ]
  },
  {
   "cell_type": "markdown",
   "metadata": {},
   "source": [
    "\n",
    "### Descriptive Statistics\n",
    "\n",
    "> **Tip**: In this section basic descriptive statistics are being presented for each column from the dataset.\n",
    "\n",
    " "
   ]
  },
  {
   "cell_type": "code",
   "execution_count": 26,
   "metadata": {},
   "outputs": [
    {
     "data": {
      "text/html": [
       "<div>\n",
       "<style scoped>\n",
       "    .dataframe tbody tr th:only-of-type {\n",
       "        vertical-align: middle;\n",
       "    }\n",
       "\n",
       "    .dataframe tbody tr th {\n",
       "        vertical-align: top;\n",
       "    }\n",
       "\n",
       "    .dataframe thead th {\n",
       "        text-align: right;\n",
       "    }\n",
       "</style>\n",
       "<table border=\"1\" class=\"dataframe\">\n",
       "  <thead>\n",
       "    <tr style=\"text-align: right;\">\n",
       "      <th></th>\n",
       "      <th>budget</th>\n",
       "      <th>id</th>\n",
       "      <th>popularity</th>\n",
       "      <th>revenue</th>\n",
       "      <th>runtime</th>\n",
       "      <th>vote_average</th>\n",
       "      <th>vote_count</th>\n",
       "    </tr>\n",
       "  </thead>\n",
       "  <tbody>\n",
       "    <tr>\n",
       "      <th>count</th>\n",
       "      <td>4.738000e+03</td>\n",
       "      <td>4738.000000</td>\n",
       "      <td>4738.000000</td>\n",
       "      <td>4.738000e+03</td>\n",
       "      <td>4738.000000</td>\n",
       "      <td>4738.000000</td>\n",
       "      <td>4738.000000</td>\n",
       "    </tr>\n",
       "    <tr>\n",
       "      <th>mean</th>\n",
       "      <td>2.943842e+07</td>\n",
       "      <td>54298.141410</td>\n",
       "      <td>21.784912</td>\n",
       "      <td>8.338916e+07</td>\n",
       "      <td>107.285564</td>\n",
       "      <td>6.172647</td>\n",
       "      <td>699.682566</td>\n",
       "    </tr>\n",
       "    <tr>\n",
       "      <th>std</th>\n",
       "      <td>4.086051e+07</td>\n",
       "      <td>84752.013154</td>\n",
       "      <td>31.935256</td>\n",
       "      <td>1.636834e+08</td>\n",
       "      <td>21.978777</td>\n",
       "      <td>0.972588</td>\n",
       "      <td>1240.361433</td>\n",
       "    </tr>\n",
       "    <tr>\n",
       "      <th>min</th>\n",
       "      <td>0.000000e+00</td>\n",
       "      <td>5.000000</td>\n",
       "      <td>0.000372</td>\n",
       "      <td>0.000000e+00</td>\n",
       "      <td>0.000000</td>\n",
       "      <td>0.500000</td>\n",
       "      <td>1.000000</td>\n",
       "    </tr>\n",
       "    <tr>\n",
       "      <th>25%</th>\n",
       "      <td>1.000000e+06</td>\n",
       "      <td>8971.250000</td>\n",
       "      <td>4.982935</td>\n",
       "      <td>0.000000e+00</td>\n",
       "      <td>94.000000</td>\n",
       "      <td>5.600000</td>\n",
       "      <td>58.000000</td>\n",
       "    </tr>\n",
       "    <tr>\n",
       "      <th>50%</th>\n",
       "      <td>1.500000e+07</td>\n",
       "      <td>14358.500000</td>\n",
       "      <td>13.295098</td>\n",
       "      <td>2.000000e+07</td>\n",
       "      <td>104.000000</td>\n",
       "      <td>6.200000</td>\n",
       "      <td>242.000000</td>\n",
       "    </tr>\n",
       "    <tr>\n",
       "      <th>75%</th>\n",
       "      <td>4.000000e+07</td>\n",
       "      <td>55537.000000</td>\n",
       "      <td>28.670406</td>\n",
       "      <td>9.452796e+07</td>\n",
       "      <td>118.000000</td>\n",
       "      <td>6.800000</td>\n",
       "      <td>750.750000</td>\n",
       "    </tr>\n",
       "    <tr>\n",
       "      <th>max</th>\n",
       "      <td>3.800000e+08</td>\n",
       "      <td>426469.000000</td>\n",
       "      <td>875.581305</td>\n",
       "      <td>2.787965e+09</td>\n",
       "      <td>338.000000</td>\n",
       "      <td>10.000000</td>\n",
       "      <td>13752.000000</td>\n",
       "    </tr>\n",
       "  </tbody>\n",
       "</table>\n",
       "</div>"
      ],
      "text/plain": [
       "             budget             id   popularity       revenue      runtime  \\\n",
       "count  4.738000e+03    4738.000000  4738.000000  4.738000e+03  4738.000000   \n",
       "mean   2.943842e+07   54298.141410    21.784912  8.338916e+07   107.285564   \n",
       "std    4.086051e+07   84752.013154    31.935256  1.636834e+08    21.978777   \n",
       "min    0.000000e+00       5.000000     0.000372  0.000000e+00     0.000000   \n",
       "25%    1.000000e+06    8971.250000     4.982935  0.000000e+00    94.000000   \n",
       "50%    1.500000e+07   14358.500000    13.295098  2.000000e+07   104.000000   \n",
       "75%    4.000000e+07   55537.000000    28.670406  9.452796e+07   118.000000   \n",
       "max    3.800000e+08  426469.000000   875.581305  2.787965e+09   338.000000   \n",
       "\n",
       "       vote_average    vote_count  \n",
       "count   4738.000000   4738.000000  \n",
       "mean       6.172647    699.682566  \n",
       "std        0.972588   1240.361433  \n",
       "min        0.500000      1.000000  \n",
       "25%        5.600000     58.000000  \n",
       "50%        6.200000    242.000000  \n",
       "75%        6.800000    750.750000  \n",
       "max       10.000000  13752.000000  "
      ]
     },
     "execution_count": 26,
     "metadata": {},
     "output_type": "execute_result"
    }
   ],
   "source": [
    "########################################\n",
    "###basic descriptive statistics\n",
    "####################################\n",
    "\n",
    "data.describe()\n"
   ]
  },
  {
   "cell_type": "markdown",
   "metadata": {},
   "source": [
    "<a id='eda'></a>\n",
    "## Exploratory Data Analysis\n",
    "\n"
   ]
  },
  {
   "cell_type": "markdown",
   "metadata": {},
   "source": [
    "### Research Question 1: Which year has the highest release of movies?\n"
   ]
  },
  {
   "cell_type": "code",
   "execution_count": 27,
   "metadata": {},
   "outputs": [
    {
     "name": "stdout",
     "output_type": "stream",
     "text": [
      "      budget                                             genres  \\\n",
      "0  237000000  [{\"id\": 28, \"name\": \"Action\"}, {\"id\": 12, \"nam...   \n",
      "1  300000000  [{\"id\": 12, \"name\": \"Adventure\"}, {\"id\": 14, \"...   \n",
      "2  245000000  [{\"id\": 28, \"name\": \"Action\"}, {\"id\": 12, \"nam...   \n",
      "3  250000000  [{\"id\": 28, \"name\": \"Action\"}, {\"id\": 80, \"nam...   \n",
      "4  260000000  [{\"id\": 28, \"name\": \"Action\"}, {\"id\": 12, \"nam...   \n",
      "\n",
      "                                       homepage      id  \\\n",
      "0                   http://www.avatarmovie.com/   19995   \n",
      "1  http://disney.go.com/disneypictures/pirates/     285   \n",
      "2   http://www.sonypictures.com/movies/spectre/  206647   \n",
      "3            http://www.thedarkknightrises.com/   49026   \n",
      "4          http://movies.disney.com/john-carter   49529   \n",
      "\n",
      "                                            keywords original_language  \\\n",
      "0  [{\"id\": 1463, \"name\": \"culture clash\"}, {\"id\":...                en   \n",
      "1  [{\"id\": 270, \"name\": \"ocean\"}, {\"id\": 726, \"na...                en   \n",
      "2  [{\"id\": 470, \"name\": \"spy\"}, {\"id\": 818, \"name...                en   \n",
      "3  [{\"id\": 849, \"name\": \"dc comics\"}, {\"id\": 853,...                en   \n",
      "4  [{\"id\": 818, \"name\": \"based on novel\"}, {\"id\":...                en   \n",
      "\n",
      "                             original_title  \\\n",
      "0                                    Avatar   \n",
      "1  Pirates of the Caribbean: At World's End   \n",
      "2                                   Spectre   \n",
      "3                     The Dark Knight Rises   \n",
      "4                               John Carter   \n",
      "\n",
      "                                            overview  popularity  \\\n",
      "0  In the 22nd century, a paraplegic Marine is di...  150.437577   \n",
      "1  Captain Barbossa, long believed to be dead, ha...  139.082615   \n",
      "2  A cryptic message from Bond’s past sends him o...  107.376788   \n",
      "3  Following the death of District Attorney Harve...  112.312950   \n",
      "4  John Carter is a war-weary, former military ca...   43.926995   \n",
      "\n",
      "                                production_companies  ... release_date  \\\n",
      "0  [{\"name\": \"Ingenious Film Partners\", \"id\": 289...  ...   2009-12-10   \n",
      "1  [{\"name\": \"Walt Disney Pictures\", \"id\": 2}, {\"...  ...   2007-05-19   \n",
      "2  [{\"name\": \"Columbia Pictures\", \"id\": 5}, {\"nam...  ...   2015-10-26   \n",
      "3  [{\"name\": \"Legendary Pictures\", \"id\": 923}, {\"...  ...   2012-07-16   \n",
      "4        [{\"name\": \"Walt Disney Pictures\", \"id\": 2}]  ...   2012-03-07   \n",
      "\n",
      "      revenue  runtime                                   spoken_languages  \\\n",
      "0  2787965087    162.0  [{\"iso_639_1\": \"en\", \"name\": \"English\"}, {\"iso...   \n",
      "1   961000000    169.0           [{\"iso_639_1\": \"en\", \"name\": \"English\"}]   \n",
      "2   880674609    148.0  [{\"iso_639_1\": \"fr\", \"name\": \"Fran\\u00e7ais\"},...   \n",
      "3  1084939099    165.0           [{\"iso_639_1\": \"en\", \"name\": \"English\"}]   \n",
      "4   284139100    132.0           [{\"iso_639_1\": \"en\", \"name\": \"English\"}]   \n",
      "\n",
      "     status                                         tagline  \\\n",
      "0  Released                     Enter the World of Pandora.   \n",
      "1  Released  At the end of the world, the adventure begins.   \n",
      "2  Released                           A Plan No One Escapes   \n",
      "3  Released                                 The Legend Ends   \n",
      "4  Released            Lost in our world, found in another.   \n",
      "\n",
      "                                      title vote_average  vote_count  \\\n",
      "0                                    Avatar          7.2       11800   \n",
      "1  Pirates of the Caribbean: At World's End          6.9        4500   \n",
      "2                                   Spectre          6.3        4466   \n",
      "3                     The Dark Knight Rises          7.6        9106   \n",
      "4                               John Carter          6.1        2124   \n",
      "\n",
      "   release_year  \n",
      "0          2009  \n",
      "1          2007  \n",
      "2          2015  \n",
      "3          2012  \n",
      "4          2012  \n",
      "\n",
      "[5 rows x 21 columns]\n"
     ]
    }
   ],
   "source": [
    "# Convert 'release_date' column to datetime format\n",
    "data['release_date'] = pd.to_datetime(data['release_date'])\n",
    "\n",
    "# Extract year from the 'release_date' column and create a new column 'release_year'\n",
    "data['release_year'] = data['release_date'].dt.year\n",
    "\n",
    "# Display the modified DataFrame\n",
    "print(data.head())"
   ]
  },
  {
   "cell_type": "code",
   "execution_count": 28,
   "metadata": {},
   "outputs": [],
   "source": [
    "#count the number of movies in each year \n",
    "df1=data.groupby('release_year').count()['id']"
   ]
  },
  {
   "cell_type": "code",
   "execution_count": 29,
   "metadata": {},
   "outputs": [
    {
     "data": {
      "image/png": "[encoded data removed]",
      "text/plain": [
       "<Figure size 640x480 with 1 Axes>"
      ]
     },
     "metadata": {},
     "output_type": "display_data"
    }
   ],
   "source": [
    "df1.plot(xticks = np.arange(1916,2017,5))\n",
    "sns.set(rc={'figure.figsize':(14,5)})\n",
    "plt.title(\"Year Vs Number Of Movies\",fontsize = 30)\n",
    "plt.xlabel('Release year',fontsize = 13)\n",
    "plt.ylabel('Number Of Movies',fontsize = 13)\n",
    "#set the style sheet\n",
    "sns.set_style(\"whitegrid\")"
   ]
  },
  {
   "cell_type": "markdown",
   "metadata": {},
   "source": [
    "### After Seeing the plot and the output we can conclude that year 2008 year has the highest release of movies\n",
    "\n",
    "The number of movies released in the United States has fluctuated over the years, but there is an overall upward trend.\n",
    "The number of movies released reached a peak of around 250 in the late 1930s and early 1940s.\n",
    "There was a decline in the number of movies released in the 1950s and 1960s, followed by a sharp increase in the 1970s and 1980s.\n",
    "The number of movies released has remained relatively stable since the early 1990s.\n"
   ]
  },
  {
   "cell_type": "markdown",
   "metadata": {},
   "source": [
    "### Research Question 2  (Which Month Released Highest Number Of Movies In All Of The Years?)"
   ]
  },
  {
   "cell_type": "code",
   "execution_count": 33,
   "metadata": {},
   "outputs": [
    {
     "data": {
      "text/plain": [
       "release_date\n",
       "1     373\n",
       "2     325\n",
       "3     365\n",
       "4     343\n",
       "5     358\n",
       "6     383\n",
       "7     359\n",
       "8     410\n",
       "9     581\n",
       "10    464\n",
       "11    325\n",
       "12    452\n",
       "Name: count, dtype: int64"
      ]
     },
     "execution_count": 33,
     "metadata": {},
     "output_type": "execute_result"
    }
   ],
   "source": [
    "number_of_release=data['release_date'].dt.month.value_counts().sort_index()\n",
    "number_of_release"
   ]
  },
  {
   "cell_type": "code",
   "execution_count": 34,
   "metadata": {},
   "outputs": [
    {
     "data": {
      "image/png": "[encoded data removed]",
      "text/plain": [
       "<Figure size 1400x500 with 1 Axes>"
      ]
     },
     "metadata": {},
     "output_type": "display_data"
    }
   ],
   "source": [
    "# Define months list\n",
    "months = ['Jan', 'Feb', 'Mar', 'Apr', 'May', 'Jun', 'Jul', 'Aug', 'Sep', 'Oct', 'Nov', 'Dec']\n",
    "\n",
    "# Create a DataFrame from number_of_release Series\n",
    "number_of_release_df = pd.DataFrame({'month': months, 'number_of_release': number_of_release.values})\n",
    "\n",
    "# Plotting\n",
    "plt.plot(number_of_release_df['month'], number_of_release_df['number_of_release'], marker='o', linestyle='-')\n",
    "\n",
    "# Set labels and title\n",
    "plt.title('Number Of Movie Releases Over Months', fontsize=15)\n",
    "plt.xlabel('Month', fontsize=13)\n",
    "plt.ylabel('Number of movie releases', fontsize=13)\n",
    "\n",
    "# Show plot\n",
    "plt.grid(True)\n",
    "plt.xticks(rotation=45)\n",
    "plt.tight_layout()\n",
    "plt.show()"
   ]
  },
  {
   "cell_type": "markdown",
   "metadata": {},
   "source": [
    "### According to the plot we can conclude that there are higher number of release in september and october month.\n"
   ]
  },
  {
   "cell_type": "markdown",
   "metadata": {},
   "source": [
    "### Research Question 3  (Movie with Largest And Lowest Earned Revenue?)"
   ]
  },
  {
   "cell_type": "code",
   "execution_count": 35,
   "metadata": {},
   "outputs": [],
   "source": [
    "def find_minmax_revenue(data):\n",
    "    # Find the index of the movie with the lowest and highest revenue\n",
    "    min_revenue_index = data['revenue'].idxmin()\n",
    "    max_revenue_index = data['revenue'].idxmax()\n",
    "    \n",
    "    # Get the details of the movies with the lowest and highest revenue\n",
    "    min_revenue_movie = data.loc[min_revenue_index]\n",
    "    max_revenue_movie = data.loc[max_revenue_index]\n",
    "    \n",
    "    # Create a DataFrame containing details of both movies\n",
    "    minmax_revenue_df = pd.DataFrame({'Lowest Revenue Movie': min_revenue_movie, 'Highest Revenue Movie': max_revenue_movie})\n",
    "    \n",
    "    return minmax_revenue_df"
   ]
  },
  {
   "cell_type": "code",
   "execution_count": 36,
   "metadata": {},
   "outputs": [
    {
     "name": "stdout",
     "output_type": "stream",
     "text": [
      "                                                   Lowest Revenue Movie  \\\n",
      "budget                                                         27000000   \n",
      "genres                [{\"id\": 28, \"name\": \"Action\"}, {\"id\": 12, \"nam...   \n",
      "homepage                                                            NaN   \n",
      "id                                                                79698   \n",
      "keywords                                                             []   \n",
      "original_language                                                    en   \n",
      "original_title                                               The Lovers   \n",
      "overview              The Lovers is an epic romance time travel adve...   \n",
      "popularity                                                     2.418535   \n",
      "production_companies  [{\"name\": \"Corsan\", \"id\": 7299}, {\"name\": \"Bli...   \n",
      "production_countries  [{\"iso_3166_1\": \"AU\", \"name\": \"Australia\"}, {\"...   \n",
      "release_date                                        2015-02-13 00:00:00   \n",
      "revenue                                                               0   \n",
      "runtime                                                           109.0   \n",
      "spoken_languages               [{\"iso_639_1\": \"en\", \"name\": \"English\"}]   \n",
      "status                                                         Released   \n",
      "tagline                                       Love is longer than life.   \n",
      "title                                                        The Lovers   \n",
      "vote_average                                                        4.8   \n",
      "vote_count                                                           34   \n",
      "release_year                                                       2015   \n",
      "\n",
      "                                                  Highest Revenue Movie  \n",
      "budget                                                        237000000  \n",
      "genres                [{\"id\": 28, \"name\": \"Action\"}, {\"id\": 12, \"nam...  \n",
      "homepage                                    http://www.avatarmovie.com/  \n",
      "id                                                                19995  \n",
      "keywords              [{\"id\": 1463, \"name\": \"culture clash\"}, {\"id\":...  \n",
      "original_language                                                    en  \n",
      "original_title                                                   Avatar  \n",
      "overview              In the 22nd century, a paraplegic Marine is di...  \n",
      "popularity                                                   150.437577  \n",
      "production_companies  [{\"name\": \"Ingenious Film Partners\", \"id\": 289...  \n",
      "production_countries  [{\"iso_3166_1\": \"US\", \"name\": \"United States o...  \n",
      "release_date                                        2009-12-10 00:00:00  \n",
      "revenue                                                      2787965087  \n",
      "runtime                                                           162.0  \n",
      "spoken_languages      [{\"iso_639_1\": \"en\", \"name\": \"English\"}, {\"iso...  \n",
      "status                                                         Released  \n",
      "tagline                                     Enter the World of Pandora.  \n",
      "title                                                            Avatar  \n",
      "vote_average                                                        7.2  \n",
      "vote_count                                                        11800  \n",
      "release_year                                                       2009  \n"
     ]
    }
   ],
   "source": [
    "# Call the function to find movies with the highest and lowest revenue\n",
    "minmax_revenue_df = find_minmax_revenue(data)\n",
    "\n",
    "# Display the DataFrame\n",
    "print(minmax_revenue_df)"
   ]
  },
  {
   "cell_type": "code",
   "execution_count": 38,
   "metadata": {},
   "outputs": [
    {
     "data": {
      "image/png": "[encoded data removed]",
      "text/plain": [
       "<Figure size 1000x600 with 1 Axes>"
      ]
     },
     "metadata": {},
     "output_type": "display_data"
    }
   ],
   "source": [
    "# Sort the 'revenue' column in descending order and store it in a new DataFrame\n",
    "top_10_revenue = data[['original_title', 'revenue']].sort_values(by='revenue', ascending=False).head(10)\n",
    "\n",
    "# Plotting\n",
    "plt.figure(figsize=(10, 6))\n",
    "plt.barh(top_10_revenue['original_title'], top_10_revenue['revenue'], color='skyblue')\n",
    "plt.xlabel('Revenue', fontsize=13)\n",
    "plt.ylabel('Movie', fontsize=13)\n",
    "plt.title('Top 10 Movies with Highest Revenue', fontsize=15)\n",
    "plt.gca().invert_yaxis()  # Invert y-axis to display the highest revenue movie on top\n",
    "plt.grid(axis='x', linestyle='--', alpha=0.7)\n",
    "\n",
    "# Annotate the bars with revenue values\n",
    "for index, value in enumerate(top_10_revenue['revenue']):\n",
    "    plt.text(value, index, f' ${value:,.0f}', fontsize=10, va='center')\n",
    "\n",
    "# Show plot\n",
    "plt.show()"
   ]
  },
  {
   "cell_type": "markdown",
   "metadata": {},
   "source": [
    "### As we can see that 'Avatar' movie earn the highest profit in all, making over 2.5B in profit in this dataset.And the most in loss movie in this dataset is Titanic.\n"
   ]
  },
  {
   "cell_type": "markdown",
   "metadata": {},
   "source": [
    "<a id='conclusions'></a>\n",
    "## Conclusions\n",
    "\n",
    "so, after processing this data set we can conclude the following :\n",
    "\n",
    "### 1- we can conclude that year 2008 year has the highest release of movies\n",
    "\n",
    "### 2- the higher number of release in september and october month\n",
    "\n",
    "### 3- 'Avatar' movie earn the highest profit in all, making over 2.5B in profit in this dataset\n",
    "\n",
    "\n",
    "And the most in loss movie in this dataset is The Warrior's Way. 5-the Movie Which Has Highest budget is The Warrior's Way and the Movie Which Has Lowest budget is Fear Clinic 6-we can say that movies in the range of 100-200 runtime are more popular than other runtime movies. Because it is boring to see the long duration movies. 7-movie with high popularity tends to earn high profit.\n",
    "\n",
    "### Limitations\n",
    "\n",
    "The provided data might have inconsistencies due to: \n",
    "1) missing currency units in the budget and revenue columns, potentially causing inaccurate comparisons across movies with different production countries, and \n",
    "2) the time-consuming process of splitting data into lists during cleaning, which can impact overall analysis efficiency.\n"
   ]
  },
  {
   "cell_type": "code",
   "execution_count": 53,
   "metadata": {},
   "outputs": [
    {
     "name": "stdout",
     "output_type": "stream",
     "text": [
      "zsh:1: command not found: python\r\n"
     ]
    }
   ],
   "source": [
    "# Running this cell will execute a bash command to convert this notebook to an .html file\n",
    "!python -m nbconvert --to html Investigate_a_Dataset.ipynb"
   ]
  }
 ],
 "metadata": {
  "kernelspec": {
   "display_name": "Python 3 (ipykernel)",
   "language": "python",
   "name": "python3"
  },
  "language_info": {
   "codemirror_mode": {
    "name": "ipython",
    "version": 3
   },
   "file_extension": ".py",
   "mimetype": "text/x-python",
   "name": "python",
   "nbconvert_exporter": "python",
   "pygments_lexer": "ipython3",
   "version": "3.11.5"
  }
 },
 "nbformat": 4,
 "nbformat_minor": 2
}
